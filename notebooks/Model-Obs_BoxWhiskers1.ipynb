{
 "cells": [
  {
   "cell_type": "markdown",
   "metadata": {},
   "source": [
    "\n",
    "# Oct 14, 2021 meeting. Request for SW precip plots for CPC/CAM6/CCM3\n",
    "1. area average (ocean to 105W and 30N-45N) precip changes in mm/day and percentage of total. \n",
    "   3 month running average from 1979-2021\n",
    "2. box and whiskers for 4 most recent seasons (as in Jennie's plots). Plot model ensemble members, ensemble mean and obs\n",
    "3. How anomalous was this year compared to past? Try do the same for models, including each ensemble member separately."
   ]
  },
  {
   "cell_type": "code",
   "execution_count": 1,
   "metadata": {
    "jupyter": {
     "source_hidden": true
    }
   },
   "outputs": [],
   "source": [
    "import xarray as xr\n",
    "import pandas as pd\n",
    "import numpy as np\n",
    "import os\n",
    "import matplotlib.pyplot as plt\n",
    "import cartopy.crs as ccrs\n",
    "import cartopy.feature as cfeature\n",
    "import xesmf as xe\n",
    "\n",
    "import cartopy\n",
    "from cartopy.mpl.ticker import LongitudeFormatter, LatitudeFormatter\n",
    "from matplotlib.ticker import (MultipleLocator, AutoMinorLocator)\n",
    "\n",
    "import warnings\n",
    "warnings.filterwarnings(\"ignore\")"
   ]
  },
  {
   "cell_type": "code",
   "execution_count": 3,
   "metadata": {
    "jupyter": {
     "source_hidden": true
    }
   },
   "outputs": [],
   "source": [
    "def fix_grids(ds,domain,time_start,times):\n",
    "    if 'X' in ds.coords:\n",
    "        ds = ds.rename({'Y':'lat','X':'lon'})\n",
    "    if 'T' in ds.coords:\n",
    "        ds = ds.rename({'T':'time'})\n",
    "    if 'P' in ds.coords:\n",
    "        ds = ds.rename({'P':'plev'})\n",
    "        \n",
    "    ds = ds.sortby('lat').sel(lat=slice(domain[2],domain[3]))\n",
    "    ds.coords['lon'] = (ds.coords['lon'] - domain[0]) % 360 +  domain[0] ; ds = ds.sortby('lon')\n",
    "    ds = ds.sel(lon=slice(domain[0],domain[1]))\n",
    "    ds['time'] = pd.date_range(time_start,periods=len(ds.time), freq='MS').shift(15,freq='D')\n",
    "    ds = ds.sel(time=slice(times[0],times[1]))\n",
    "    return ds\n",
    "\n",
    "def load_model(domain,time_start,times,prefix,varlist):\n",
    "    filelist = [f'{prefix}/{var}.nc' for var in varlist]\n",
    "    ds = xr.open_mfdataset(filelist,decode_times=False)\n",
    "    return fix_grids(ds,domain,time_start,times)\n",
    "\n",
    "def get_data(gtype,domain,time_range,mean=True):\n",
    "    if gtype == 'NOAA':\n",
    "        prefix = 'http://iridl.ldeo.columbia.edu'\n",
    "        if not os.path.exists('NOAA_rain.nc'):    \n",
    "            data   = 'SOURCES/.NOAA/.NCEP/.CPC/.UNIFIED_PRCP/.GAUGE_BASED/.GLOBAL/.v1p0/'\n",
    "            url = f'{prefix}/{data}.RETRO/.rain/{data}.REALTIME/.rain/appendstream/monthlyAverage/data.nc'\n",
    "            os.system(f'wget {url}; mv data.nc NOAA_rain.nc')\n",
    "        dsn = xr.open_dataset('NOAA_rain.nc',decode_times=False)\n",
    "        dst = fix_grids(dsn,domain,'1979-01',time_range)\n",
    "       \n",
    "    # UCAR - CAM6 - ERSSTv5 - 0.9 x 1.25\n",
    "    if gtype == 'UCAR':\n",
    "        prefix = '/net/hodges/d2/naomi/ingrid/UCAR/ERSSTv5/goga/single_level/members/from_1950/'\n",
    "        varlist=['PRECC', 'PRECL','OCNFRAC', 'ICEFRAC']\n",
    "\n",
    "        dst = load_model(domain,'1950-01',time_range,prefix,varlist).sel(time=slice('1950-01','2021-01'))\n",
    "        prtot = (dst.PRECC + dst.PRECL) * 1000 * 86400  \n",
    "        dst['rain'] = prtot.where(dst.OCNFRAC<1.0).where(dst.ICEFRAC==0.0)\n",
    "        dst = dst.drop(['PRECC','PRECL','OCNFRAC','ICEFRAC'])\n",
    "        if mean:\n",
    "            dst = dst.mean('member')\n",
    "        \n",
    "    # LDEO - CCM3 - HadISST - T42 ( 2.8 x 2.8)\n",
    "    if gtype == 'CCM3':\n",
    "        time_start = '1856-01'\n",
    "        varlist=['ORO', 'PRECC', 'PRECL']\n",
    "\n",
    "        dss = []\n",
    "        for member in range(1,17):\n",
    "            prefix = f'/home/naomi/PROJECTS/CCM3/goga/runs/atm/SLD/goga_{member}/'\n",
    "            ds = load_model(domain,time_start,time_range,prefix,varlist)\n",
    "            prtot = (ds.PRECC + ds.PRECL) * 1000 * 86400  \n",
    "            ds['rain'] = prtot.where(ds.ORO==1.0)\n",
    "            dss += [ds.drop(['PRECC','PRECL','ORO'])]\n",
    "        dst = xr.concat(dss,'member')\n",
    "        if mean:\n",
    "            dst = dst.mean('member')\n",
    "        \n",
    "    # LDEO - GOGA - HadOIBlend - 1.9 x 2.5\n",
    "    if gtype == 'CAM6':\n",
    "        time_start = '1979-01'\n",
    "        varlist=['OCNFRAC', 'ICEFRAC', 'PRECC', 'PRECL']\n",
    "        dss = []\n",
    "        for member in range(1,17):\n",
    "            mem = \"{:03d}\".format(member)\n",
    "            prefix = f'/net/hodges/d3/pma2107/forRichard/CAM6/runs/ensemble-extension-fixed/atm/member_{mem}/SLD'\n",
    "            ds = load_model(domain,time_start,time_range,prefix,varlist)\n",
    "            prtot = (ds.PRECC + ds.PRECL) * 1000 * 86400  \n",
    "            ds['rain'] =prtot.where(ds.OCNFRAC<1.0).where(ds.ICEFRAC==0.0)\n",
    "            dss += [ds.drop(['PRECC','PRECL','OCNFRAC','ICEFRAC'])]\n",
    "        dst = xr.concat(dss,'member')\n",
    "        if mean:\n",
    "            dst = dst.mean('member')\n",
    "\n",
    "    return dst"
   ]
  },
  {
   "cell_type": "code",
   "execution_count": 4,
   "metadata": {},
   "outputs": [],
   "source": [
    "# Precip anomaly as mm/day\n",
    "domain = [230, 255, 30, 40]\n",
    "time_range = ['1979-01','2021-05'] # for anomaly\n",
    "tbox = 3\n",
    "#dtypes = ['NOAA','CCM3','CAM6','UCAR']\n",
    "dtypes = ['NOAA','CCM3','CAM6']\n",
    "\n",
    "TSa = {}\n",
    "for dtype in dtypes: \n",
    "    ds = get_data(dtype,domain,time_range,mean=False)\n",
    "    weights = np.cos(np.deg2rad(ds.lat))\n",
    "    ds = ds.rain.weighted(weights).mean(['lon', 'lat'])\n",
    "    ds_anom = ds.groupby('time.month').apply(lambda x: x - x.mean('time'))\n",
    "    TSa[dtype] = ds.sel(time=slice('2020-06','2021-06')).coarsen(time=tbox, boundary='trim').mean()"
   ]
  },
  {
   "cell_type": "code",
   "execution_count": 5,
   "metadata": {},
   "outputs": [],
   "source": [
    "# Precip anomaly as percentage\n",
    "domain = [230, 255, 30, 40]\n",
    "time_range = ['1979-01','2021-05'] # for anomaly\n",
    "tbox = 3\n",
    "#dtypes = ['NOAA','CCM3','CAM6','UCAR']\n",
    "dtypes = ['NOAA','CCM3','CAM6']\n",
    "\n",
    "TSp = {}\n",
    "for dtype in dtypes: \n",
    "    ds = get_data(dtype,domain,time_range,mean=False)\n",
    "    weights = np.cos(np.deg2rad(ds.lat))\n",
    "    ds = ds.rain.weighted(weights).mean(['lon', 'lat'])\n",
    "    ds_clim = ds.groupby('time.month').mean('time')\n",
    "    ds_anom = ds.groupby('time.month').apply(lambda x: x - x.mean('time'))\n",
    "    ds_percent = 100 * (ds_anom.groupby('time.month') / ds_clim )\n",
    "    ds_percent = ds_percent.sel(time=slice('2020-06','2021-06')).coarsen(time=tbox, boundary='trim').mean()\n",
    "    TSp[dtype] = ds_percent"
   ]
  },
  {
   "cell_type": "code",
   "execution_count": 6,
   "metadata": {},
   "outputs": [
    {
     "data": {
      "text/plain": [
       "<matplotlib.legend.Legend at 0x7f7983e4d450>"
      ]
     },
     "execution_count": 6,
     "metadata": {},
     "output_type": "execute_result"
    },
    {
     "data": {
      "image/png": "[encoded data removed]",
      "text/plain": [
       "<Figure size 720x360 with 1 Axes>"
      ]
     },
     "metadata": {
      "needs_background": "light"
     },
     "output_type": "display_data"
    }
   ],
   "source": [
    "fig = plt.figure(figsize=(10,5))\n",
    "d_NOAA = []\n",
    "d_CCM3 = []\n",
    "d_CCM3_em = []\n",
    "d_CAM6 = []\n",
    "d_CAM6_em = []\n",
    "for season in range(0,4):\n",
    "    ds = TSa['NOAA'][season].values\n",
    "    d_NOAA += [ds]\n",
    "    ds = TSa['CCM3'][:,season].values\n",
    "    d_CCM3 += [ds]\n",
    "    d_CCM3_em += [ds.mean()]\n",
    "    ds = TSa['CAM6'][:,season].values\n",
    "    d_CAM6 += [ds]\n",
    "    d_CAM6_em += [ds.mean()]\n",
    "\n",
    "left_positions = [0, 3, 6, 9]\n",
    "right_positions = [1, 4, 7, 10]\n",
    "center = [0.5, 3.5, 6.5, 9.5]\n",
    "labels = ['2020-JJA','2020-SON','2021-DJF','2021-MAM']\n",
    "plt.boxplot(d_CCM3, positions = left_positions, medianprops=dict(color='g'))\n",
    "plt.boxplot(d_CAM6, positions = right_positions, medianprops=dict(color='orange'))\n",
    "plt.plot(center,d_NOAA,'x',linewidth=0.0,label='CPC',color='b')\n",
    "plt.plot(left_positions,d_CCM3_em,'x',linewidth=0.0,label='CCM3 ensemble mean',color='g')\n",
    "plt.plot(right_positions,d_CAM6_em,'x',linewidth=0.0,label='CAM6 ensemble mean',color='orange')\n",
    "plt.xticks(center, labels)\n",
    "plt.ylabel('Precipitation Anomaly (mm/day)')\n",
    "plt.legend()"
   ]
  },
  {
   "cell_type": "code",
   "execution_count": 7,
   "metadata": {},
   "outputs": [
    {
     "data": {
      "text/plain": [
       "<matplotlib.legend.Legend at 0x7f79431d08d0>"
      ]
     },
     "execution_count": 7,
     "metadata": {},
     "output_type": "execute_result"
    },
    {
     "data": {
      "image/png": "[encoded data removed]",
      "text/plain": [
       "<Figure size 720x360 with 1 Axes>"
      ]
     },
     "metadata": {
      "needs_background": "light"
     },
     "output_type": "display_data"
    }
   ],
   "source": [
    "fig = plt.figure(figsize=(10,5))\n",
    "d_NOAA = []\n",
    "d_CCM3 = []\n",
    "d_CCM3_em = []\n",
    "d_CAM6 = []\n",
    "d_CAM6_em = []\n",
    "for season in range(0,4):\n",
    "    ds = TSp['NOAA'][season].values\n",
    "    d_NOAA += [ds]\n",
    "    ds = TSp['CCM3'][:,season].values\n",
    "    d_CCM3 += [ds]\n",
    "    d_CCM3_em += [ds.mean()]\n",
    "    ds = TSp['CAM6'][:,season].values\n",
    "    d_CAM6 += [ds]\n",
    "    d_CAM6_em += [ds.mean()]\n",
    "\n",
    "left_positions = [0, 3, 6, 9]\n",
    "right_positions = [1, 4, 7, 10]\n",
    "center = [0.5, 3.5, 6.5, 9.5]\n",
    "labels = ['2020-JJA','2020-SON','2021-DJF','2021-MAM']\n",
    "plt.boxplot(d_CCM3, positions = left_positions, medianprops=dict(color='g'))\n",
    "plt.boxplot(d_CAM6, positions = right_positions, medianprops=dict(color='orange'))\n",
    "plt.plot(center,d_NOAA,'x',linewidth=0.0,label='CPC',color='b')\n",
    "plt.plot(left_positions,d_CCM3_em,'x',linewidth=0.0,label='CCM3 ensemble mean',color='g')\n",
    "plt.plot(right_positions,d_CAM6_em,'x',linewidth=0.0,label='CAM6 ensemble mean',color='orange')\n",
    "plt.xticks(center, labels)\n",
    "plt.ylabel('Precipitation Anomaly (% of climo)')\n",
    "plt.legend()"
   ]
  },
  {
   "cell_type": "code",
   "execution_count": null,
   "metadata": {},
   "outputs": [],
   "source": []
  }
 ],
 "metadata": {
  "kernelspec": {
   "display_name": "pangeo-Oct2021",
   "language": "python",
   "name": "pangeo-oct2021"
  },
  "language_info": {
   "codemirror_mode": {
    "name": "ipython",
    "version": 3
   },
   "file_extension": ".py",
   "mimetype": "text/x-python",
   "name": "python",
   "nbconvert_exporter": "python",
   "pygments_lexer": "ipython3",
   "version": "3.7.10"
  }
 },
 "nbformat": 4,
 "nbformat_minor": 4
}
