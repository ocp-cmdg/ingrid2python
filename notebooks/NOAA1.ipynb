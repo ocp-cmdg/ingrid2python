{
 "cells": [
  {
   "cell_type": "code",
   "execution_count": 1,
   "metadata": {},
   "outputs": [],
   "source": [
    "import xarray as xr\n",
    "import pandas as pd\n",
    "import numpy as np\n",
    "import os\n",
    "import matplotlib.pyplot as plt\n",
    "import cartopy.crs as ccrs\n",
    "import cartopy.feature as cfeature\n",
    "import cartopy\n",
    "from cartopy.mpl.ticker import LongitudeFormatter, LatitudeFormatter\n",
    "from matplotlib.ticker import (MultipleLocator, AutoMinorLocator)\n",
    "\n",
    "import warnings\n",
    "warnings.filterwarnings(\"ignore\")"
   ]
  },
  {
   "cell_type": "code",
   "execution_count": 2,
   "metadata": {},
   "outputs": [],
   "source": [
    "from matplotlib import colors as colors\n",
    "\n",
    "cmap_data = [(0, 'navy'),(0.1, 'blue'),(0.2,'DeepSkyBlue'),\n",
    "             (0.3,'turquoise'),(0.4,'PaleTurquoise'),(0.45,'moccasin'),\n",
    "             (0.55,'moccasin'),(.6,'yellow'),(.7,'DarkOrange'),\n",
    "             (.8,'red'),(1.0,'DarkRed')]\n",
    "cmap = colors.LinearSegmentedColormap.from_list('correlationcolorscale', cmap_data)\n",
    "plt.register_cmap('correlationcolorscale', cmap)"
   ]
  },
  {
   "cell_type": "code",
   "execution_count": 3,
   "metadata": {},
   "outputs": [],
   "source": [
    "def rgb2hex(r,g,b):\n",
    "    return \"#{:02x}{:02x}{:02x}\".format(r,g,b)\n",
    " \n",
    "cmap_data = [(0, rgb2hex(130, 90, 80)), \\\n",
    "             (0.0625, rgb2hex(150, 110, 100)), \\\n",
    "             (0.125, rgb2hex(170, 130, 120)), \\\n",
    "             (0.1875, rgb2hex(180, 140, 130)), \\\n",
    "             (0.25, rgb2hex(190, 150, 140)), \\\n",
    "             (0.3125, rgb2hex(200, 160, 150)), \\\n",
    "             (0.375, rgb2hex(220, 185, 175)), \\\n",
    "             (0.475, rgb2hex(240, 215, 210)), \\\n",
    "             (0.495, rgb2hex(255, 255, 255)), \\\n",
    "             (0.505, rgb2hex(255, 255, 255)), \\\n",
    "             (0.525, rgb2hex(210, 255, 215)), \\\n",
    "             (0.5625, rgb2hex(150, 230, 155)), \\\n",
    "             (0.625, rgb2hex(110, 210, 115)), \\\n",
    "             (0.6875, rgb2hex(45, 180, 50)), \\\n",
    "             (0.75, rgb2hex(20, 170, 25)), \\\n",
    "             (0.8125, rgb2hex(10, 150, 15)), \\\n",
    "             (0.875, rgb2hex(0, 130, 5)), \\\n",
    "             (1,rgb2hex(0, 110, 4))]\n",
    "cmap = colors.LinearSegmentedColormap.from_list('prcp_anomaly', cmap_data)\n",
    "plt.register_cmap('prcp_anomaly', cmap)"
   ]
  },
  {
   "cell_type": "code",
   "execution_count": 4,
   "metadata": {},
   "outputs": [],
   "source": [
    "# CPC Precipitation\n",
    "\n",
    "ttypes = ['RETRO','REALTIME']\n",
    "for ttype in ttypes:\n",
    "    url=f'http://iridl.ldeo.columbia.edu/expert/SOURCES/.NOAA/.NCEP/.CPC/.UNIFIED_PRCP/.GAUGE_BASED/.GLOBAL/.v1p0/.{ttype}/.rain/monthlyAverage/data.nc'\n",
    "    if os.path.exists(f'data/CPC_{ttype}.nc'):\n",
    "        continue\n",
    "    os.system(f'wget {url}; mv data.nc data/CPC_{ttype}.nc')\n",
    "\n",
    "ds = xr.open_mfdataset('data/CPC_*.nc',decode_times=False,concat_dim='T').rename({'T':'time'}).sel(Y=slice(-10,70))\n",
    "ds.coords['X'] = (ds.coords['X'] - 30) % 360 + 30; ds = ds.sortby('X')\n",
    "ds['time'] = pd.date_range('1979-01',periods=len(ds.time), freq='MS').shift(15,freq='D')\n",
    "ds = ds.sel(time=slice('1979-01','2021-02'))\n",
    "\n",
    "ds_rain_anom = ds.groupby('time.month').apply(lambda x: x - x.mean('time'))"
   ]
  },
  {
   "cell_type": "code",
   "execution_count": 5,
   "metadata": {},
   "outputs": [],
   "source": [
    "# NCEP-NCAR SST\n",
    "\n",
    "vars = ['temp','LAND','ICEC']\n",
    "for var in vars:\n",
    "    url=f'http://iridl.ldeo.columbia.edu/expert/SOURCES/.NOAA/.NCEP-NCAR/.CDAS-1/.MONTHLY/.Diagnostic/.surface/.{var}/data.nc'\n",
    "    if os.path.exists(f'data/CDAS1_{var}.nc'):\n",
    "        continue\n",
    "    os.system(f'wget {url}; mv data.nc data/CDAS1_{var}.nc');\n",
    "\n",
    "ds = xr.open_mfdataset('data/CDAS1_*.nc',decode_times=False).sortby('Y').rename({'T':'time'}).sel(Y=slice(-10,70))\n",
    "#print(ds.LAND.dropna(dim='time').drop('time').squeeze())\n",
    "\n",
    "ds['LAND'] = ds.LAND.dropna(dim='time').drop('time').squeeze()\n",
    "\n",
    "ds.coords['X'] = (ds.coords['X'] - 30) % 360 + 30 ; ds = ds.sortby('X')\n",
    "ds['temp'] = ds.temp.where(ds.ICEC<=0).where(ds.LAND==0)\n",
    "ds['time'] = pd.date_range('1949-01',periods=len(ds.time), freq='MS').shift(15,freq='D')\n",
    "ds = ds.sel(time=slice('1979-01','2021-02'))\n",
    "ds_temp_anom = ds.groupby('time.month').apply(lambda x: x - x.mean('time'))"
   ]
  },
  {
   "cell_type": "code",
   "execution_count": 6,
   "metadata": {},
   "outputs": [],
   "source": [
    "# NCEP-NCAR Geopotential height at 200mb\n",
    "\n",
    "if not os.path.exists('data/CDAS_Z200.nc'):\n",
    "    url = f'http://iridl.ldeo.columbia.edu/expert/SOURCES/.NOAA/.NCEP-NCAR/.CDAS-1/.MONTHLY/.Intrinsic/.PressureLevel/.phi/P/200/VALUE/P/removeGRID/data.nc'\n",
    "    os.system(f'wget {url}; mv data.nc data/CDAS_Z200.nc')\n",
    "\n",
    "dsz = xr.open_dataset('data/CDAS_Z200.nc',decode_times=False).sortby('Y').rename({'T':'time'}).sel(Y=slice(-10,70))\n",
    "dsz.coords['X'] = (dsz.coords['X'] - 30) % 360 + 30 ; dsz = dsz.sortby('X')\n",
    "dsz['time'] = pd.date_range('1949-01',periods=len(dsz.time), freq='MS').shift(15,freq='D')\n",
    "dsz = dsz.sel(time=slice('1979-01','2021-02'))\n",
    "ds_z200_anom = dsz.groupby('time.month').apply(lambda x: x - x.mean('time'))"
   ]
  },
  {
   "cell_type": "code",
   "execution_count": null,
   "metadata": {},
   "outputs": [],
   "source": [
    "# T 3 boxAverage, starting with 3rd month (March 1979)\n",
    "ds_rain = ds_rain_anom.rain[2:].coarsen(time=3,boundary='trim').mean()\n",
    "ds_temp = ds_temp_anom.temp[2:].coarsen(time=3,boundary='trim').mean()\n",
    "ds_z200 = ds_z200_anom.phi[2:].coarsen(time=3,boundary='trim').mean()\n",
    "\n",
    "for month in ['2020-07','2020-10','2021-01']:\n",
    "    fig = plt.figure(figsize=(8,4))\n",
    "\n",
    "    ax = plt.axes(projection=ccrs.PlateCarree(central_longitude=210))\n",
    "    ax.set_extent([30, 390, -10,  70], crs=ccrs.PlateCarree())\n",
    "\n",
    "    temp = ds_temp.sel(time=f'{month}').squeeze().drop(['time'])\n",
    "    rain = ds_rain.sel(time=f'{month}').squeeze().drop(['time'])\n",
    "    z200 = ds_z200.sel(time=f'{month}').squeeze().drop(['time'])\n",
    "    \n",
    "    cb1 = temp.plot.contourf(ax=ax, transform=ccrs.PlateCarree(), vmin=-2, vmax=2, levels=41, cmap='correlationcolorscale', add_colorbar=False)\n",
    "    cb2 = rain.plot.contourf(ax=ax, transform=ccrs.PlateCarree(), vmin=-10,vmax=10, levels=101, cmap='prcp_anomaly', add_colorbar=False)\n",
    "    # put zorder=10 to put the contours on TOP\n",
    "    CS  = z200.plot.contour (ax=ax, colors= 'k', linewidths=0.5, transform=ccrs.PlateCarree(),zorder=10, vmin=-160,vmax=160,levels=17)\n",
    "    ax.clabel(CS, inline=1, fontsize=9, fmt='%1.0f')\n",
    "    CS.collections[8].set_linewidth(1.5) # plot the zero line thicker\n",
    "\n",
    "    # Add coasts\n",
    "    ax.add_feature(cfeature.COASTLINE, linewidth=0.5)\n",
    "    \n",
    "    # Label x-axis and make tick labels\n",
    "    ax.xaxis.set_label_text('Longitude',fontsize=12)\n",
    "    ax.set_xticks(np.arange(-180,179,40), crs=ccrs.PlateCarree())\n",
    "    ax.xaxis.set_major_formatter(cartopy.mpl.ticker.LongitudeFormatter())\n",
    "    ax.xaxis.set_minor_locator(MultipleLocator(10))\n",
    "\n",
    "    # Label y-axis and make tick labels\n",
    "    ax.yaxis.set_label_text('Latitude',fontsize=12)\n",
    "    plt.yticks(np.arange(0,70,30), rotation=90, va='center')\n",
    "    ax.yaxis.set_major_formatter(cartopy.mpl.ticker.LatitudeFormatter())\n",
    "    ax.yaxis.set_minor_locator(MultipleLocator(10))\n",
    "    \n",
    "    # Make tick marks\n",
    "    ax.tick_params(which='major', width=1.00, length=5, labelsize=11)\n",
    "    ax.tick_params(which='minor', width=0.75, length=2.5)\n",
    "\n",
    "    # do some cropping of the eps file so that we can use it in latex\n",
    "    plt.savefig('plot.eps')\n",
    "    os.system(f'/usr/bin/ps2eps -B -C < plot.eps > eps/overlay_{month}.eps');"
   ]
  },
  {
   "cell_type": "code",
   "execution_count": null,
   "metadata": {},
   "outputs": [],
   "source": [
    "# plot just colorbar:\n",
    "ds_cutcliptemp=np.clip(ds_temp[0],-2,2)\n",
    "cb = ds_cutcliptemp.plot.contourf(ax=ax, transform=ccrs.PlateCarree(), vmin=-2, vmax=2, levels=41, cmap='correlationcolorscale', add_colorbar=False)\n",
    "plt.gca().set_visible(False)\n",
    "cbar = plt.colorbar(cb, extendrect = True, orientation='horizontal')\n",
    "cbar.ax.tick_params(labelsize=11)\n",
    "cbar.set_label(label='Temperature [$\\degree C$]', size=12)\n",
    "plt.savefig('plot.eps')\n",
    "os.system(f'/usr/bin/ps2eps -B -C < plot.eps > eps/temp-colorbar.eps');"
   ]
  },
  {
   "cell_type": "code",
   "execution_count": null,
   "metadata": {},
   "outputs": [],
   "source": [
    "ds_cutclip=np.clip(ds_rain[0],-10,10)\n",
    "cb = ds_cutclip.plot.contourf(ax=ax, transform=ccrs.PlateCarree(), vmin=-10,vmax=10, levels=101, cmap='prcp_anomaly', add_colorbar=False)\n",
    "plt.gca().set_visible(False)\n",
    "a = np.arange(-10,10.1,2)\n",
    "cbar = plt.colorbar(cb, extendrect = True, orientation='horizontal', ticks=a)\n",
    "cbar.ax.tick_params(labelsize=11)\n",
    "cbar.set_label(label='Precipitation [mm/day]', size=12)\n",
    "plt.savefig('plot.eps')\n",
    "os.system(f'/usr/bin/ps2eps -B -C < plot.eps > eps/rain-colorbar.eps');"
   ]
  },
  {
   "cell_type": "code",
   "execution_count": null,
   "metadata": {},
   "outputs": [],
   "source": []
  }
 ],
 "metadata": {
  "kernelspec": {
   "display_name": "jennie-fall2021",
   "language": "python",
   "name": "jennie-fall2021"
  },
  "language_info": {
   "codemirror_mode": {
    "name": "ipython",
    "version": 3
   },
   "file_extension": ".py",
   "mimetype": "text/x-python",
   "name": "python",
   "nbconvert_exporter": "python",
   "pygments_lexer": "ipython3",
   "version": "3.7.10"
  }
 },
 "nbformat": 4,
 "nbformat_minor": 4
}
