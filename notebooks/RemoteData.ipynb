{
 "cells": [
  {
   "cell_type": "markdown",
   "metadata": {},
   "source": [
    "## Accessing data with an http or opendap URL is very easy"
   ]
  },
  {
   "cell_type": "code",
   "execution_count": null,
   "metadata": {},
   "outputs": [],
   "source": [
    "import xarray as xr"
   ]
  },
  {
   "cell_type": "code",
   "execution_count": null,
   "metadata": {},
   "outputs": [],
   "source": [
    "# Direct access data from kage:\n",
    "# Note, use your browser to explore http://kage.ldeo.columbia.edu/data/pdsi-spei/\n",
    "\n",
    "url = 'http://kage.ldeo.columbia.edu/data/pdsi-spei/pdsi/GFDL_ESM2G/pdsi_all.nc#mode=bytes'\n",
    "ds = xr.open_dataset(url,decode_times=False)\n",
    "print(ds)\n",
    "#ds.pdsi_all.mean('T').plot()"
   ]
  },
  {
   "cell_type": "code",
   "execution_count": null,
   "metadata": {},
   "outputs": [],
   "source": [
    "# Direct access CMIP6 from mary:\n",
    "\n",
    "url = 'http://mary.ldeo.columbia.edu/CMIP6/CMIP/BCC/BCC-ESM1/historical/r1i1p1f1/Amon/clt/gn/v20181214/\\\n",
    "clt_Amon_BCC-ESM1_historical_r1i1p1f1_gn_185001-201412.nc#mode=bytes'\n",
    "\n",
    "xr.open_dataset(url)"
   ]
  },
  {
   "cell_type": "code",
   "execution_count": null,
   "metadata": {},
   "outputs": [],
   "source": [
    "# Can also use an OPeNDAP url:\n",
    "\n",
    "url = 'https://esgf-data1.llnl.gov/thredds/dodsC/css03_data/CMIP6/ScenarioMIP/AS-RCEC/TaiESM1/ssp370/r1i1p1f1/day/tasmax/gn/v20210323/tasmax_day_TaiESM1_ssp370_r1i1p1f1_gn_20150101-20241231.nc'\n",
    "xr.open_dataset(url)"
   ]
  },
  {
   "cell_type": "code",
   "execution_count": null,
   "metadata": {},
   "outputs": [],
   "source": [
    "# Globus - NOPE, must set up endpoints, etc.\n",
    "\n",
    "url = 'globus:415a6320-e49c-11e5-9798-22000b9da45e/css03_data/CMIP6/ScenarioMIP/IPSL/IPSL-CM6A-LR/ssp370/r6i1p1f1/day\\\n",
    "/tasmax/gr/v20190614/tasmax_day_IPSL-CM6A-LR_ssp370_r6i1p1f1_gr_20150101-21001231.nc'\n",
    "# xr.open_dataset(url)"
   ]
  },
  {
   "cell_type": "code",
   "execution_count": null,
   "metadata": {},
   "outputs": [],
   "source": [
    "# Google Cloud Store, Pangeo zarr collection\n",
    "\n",
    "path = 'CMIP6/ScenarioMIP/MPI-M/MPI-ESM1-2-LR/ssp585/r2i1p1f1/day/va/gn/v20190710'\n",
    "\n",
    "url = f'https://cmip6.storage.googleapis.com/{path}'\n",
    "ds = xr.open_zarr(url,consolidated=True)\n",
    "print('size of dataset:',ds.nbytes/1e9,'G')\n",
    "ds"
   ]
  },
  {
   "cell_type": "code",
   "execution_count": null,
   "metadata": {},
   "outputs": [],
   "source": [
    "# Amazon S3, Pangeo zarr collection (mirror of GCS)\n",
    "\n",
    "path = 'CMIP6/ScenarioMIP/MPI-M/MPI-ESM1-2-LR/ssp585/r2i1p1f1/day/va/gn/v20190710'\n",
    "\n",
    "url = f'https://cmip6-pds.s3.amazonaws.com/{path}'\n",
    "ds = xr.open_zarr(url,consolidated=True)\n",
    "print('size of dataset:',ds.nbytes/1e9,'G')\n",
    "ds"
   ]
  },
  {
   "cell_type": "code",
   "execution_count": null,
   "metadata": {},
   "outputs": [],
   "source": [
    "# Amazon S3, GFDL netcdf collection\n",
    "\n",
    "# can open a single file like this, but there is a better method to read from the S3 file system directly, see below\n",
    "\n",
    "#url = 'https://esgf-world.s3.amazonaws.com/CMIP6/CMIP/IPSL/IPSL-CM6A-LR/abrupt-4xCO2/r1i1p1f1/Lmon/cLeaf/gr/v20190118/cLeaf_Lmon_IPSL-CM6A-LR_abrupt-4xCO2_r1i1p1f1_gr_185001-214912.nc#mode=bytes'\n",
    "#ds = xr.open_dataset(url, decode_coords=False)\n",
    "#ds"
   ]
  },
  {
   "cell_type": "markdown",
   "metadata": {},
   "source": [
    "## We can also instantiate a file system"
   ]
  },
  {
   "cell_type": "code",
   "execution_count": null,
   "metadata": {},
   "outputs": [],
   "source": [
    "import xarray as xr\n",
    "import fsspec\n",
    "\n",
    "fs_http = fsspec.filesystem('http')\n",
    "files = fs_http.glob('http://kage.ldeo.columbia.edu/data/ERA5/monthly/single_level/*/2m_*.nc')\n",
    "files"
   ]
  },
  {
   "cell_type": "code",
   "execution_count": null,
   "metadata": {},
   "outputs": [],
   "source": [
    "urls = [ file + '#mode=bytes' for file in files]\n",
    "ds= xr.open_mfdataset(urls)\n",
    "ds"
   ]
  },
  {
   "cell_type": "code",
   "execution_count": null,
   "metadata": {},
   "outputs": [],
   "source": [
    "# can browse ftp sites\n",
    "fs_ftp = fsspec.filesystem('ftp', host='ftp.cdc.noaa.gov') #, port=port, username=user, password=pw)\n",
    "fs_ftp.glob('/Projects/Datasets/*')"
   ]
  },
  {
   "cell_type": "code",
   "execution_count": null,
   "metadata": {},
   "outputs": [],
   "source": [
    "# can directly read in single ftp files WITHOUT downloading first\n",
    "import urllib\n",
    "import io\n",
    "\n",
    "url = 'ftp://ftp.cdc.noaa.gov/Projects/Datasets/ncep.reanalysis.derived/surface/air.sig995.mon.mean.nc'\n",
    "req = urllib.request.Request(url)\n",
    "\n",
    "with urllib.request.urlopen(req) as resp:\n",
    "    ds = xr.open_dataset(io.BytesIO(resp.read()))\n",
    "    \n",
    "ds"
   ]
  },
  {
   "cell_type": "code",
   "execution_count": null,
   "metadata": {},
   "outputs": [],
   "source": [
    "# Google Cloud Store Example\n",
    "import gcsfs\n",
    "\n",
    "fs_GCS = gcsfs.GCSFileSystem(token='anon',access='read_only')\n",
    "\n",
    "fs_GCS.ls('cmip6')  # just put the bucket name here"
   ]
  },
  {
   "cell_type": "code",
   "execution_count": null,
   "metadata": {},
   "outputs": [],
   "source": [
    "# Amazon S3 Example\n",
    "import s3fs\n",
    "\n",
    "fs_S3 = s3fs.S3FileSystem(anon=True)\n",
    "\n",
    "fs_S3.ls('cmip6-pds')  # just put the bucket name here"
   ]
  },
  {
   "cell_type": "code",
   "execution_count": null,
   "metadata": {},
   "outputs": [],
   "source": [
    "# Amazon S3, GFDL netcdf collection  (dataset may consist of multiple netcdf files)\n",
    "\n",
    "fs_GFDL = s3fs.S3FileSystem(anon=True)\n",
    "\n",
    "path = 'CMIP6/ScenarioMIP/MPI-M/MPI-ESM1-2-LR/ssp585/r2i1p1f1/day/va/gn/v20190710'\n",
    "\n",
    "s3path = 's3://esgf-world/'+path+'/*.nc'\n",
    "fs_GFDL.glob(s3path)"
   ]
  },
  {
   "cell_type": "code",
   "execution_count": null,
   "metadata": {},
   "outputs": [],
   "source": [
    "fobj = [fs_GFDL.open(f) for f in fs_GFDL.glob(s3path)]\n",
    "ds = xr.open_mfdataset(fobj, data_vars='minimal', \n",
    "                        use_cftime=True, join='exact', combine='nested', concat_dim='time')\n",
    "ds"
   ]
  }
 ],
 "metadata": {
  "kernelspec": {
   "display_name": "pangeo-Jan2021",
   "language": "python",
   "name": "pangeo-jan2021"
  },
  "language_info": {
   "codemirror_mode": {
    "name": "ipython",
    "version": 3
   },
   "file_extension": ".py",
   "mimetype": "text/x-python",
   "name": "python",
   "nbconvert_exporter": "python",
   "pygments_lexer": "ipython3",
   "version": "3.7.9"
  }
 },
 "nbformat": 4,
 "nbformat_minor": 4
}
