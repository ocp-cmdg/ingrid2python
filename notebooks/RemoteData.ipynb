{
 "cells": [
  {
   "cell_type": "markdown",
   "metadata": {},
   "source": [
    "## Accessing data with an http or opendap URL is very easy\n",
    "\n",
    "General notes:\n",
    "- netcdf over http: files need to be opened individually, with #mode=bytes appended to the url\n",
    "- zarr over http: can be read directly, xr.open_zarr()\n",
    "- opendap urls: can be read directly, xr.open_dataset()\n",
    "- ftp urls: can be read as binary files without downloading first\n",
    "\n",
    "Cloud data:\n",
    "- zarr datasets in GCS (gs) or AWS-S3 (s3) just use fsspec.get_mapper()\n",
    "- AWS-S3 (s3) netcdf files need to be 'opened', using fs_s3.open(), where fs_s3  = fsspec.filesystem('s3', anon=True)"
   ]
  },
  {
   "cell_type": "code",
   "execution_count": null,
   "metadata": {},
   "outputs": [],
   "source": [
    "import xarray as xr\n",
    "import fsspec\n",
    "fsspec.__version__"
   ]
  },
  {
   "cell_type": "code",
   "execution_count": null,
   "metadata": {},
   "outputs": [],
   "source": [
    "# Direct access data from kage:\n",
    "# Note, use your browser to explore http://kage.ldeo.columbia.edu/data/pdsi-spei/\n",
    "\n",
    "url = 'http://kage.ldeo.columbia.edu/data/pdsi-spei/pdsi/GFDL_ESM2G/pdsi_all.nc#mode=bytes'\n",
    "ds = xr.open_dataset(url,decode_times=False)\n",
    "print(ds)\n",
    "#ds.pdsi_all.mean('T').plot()"
   ]
  },
  {
   "cell_type": "code",
   "execution_count": null,
   "metadata": {},
   "outputs": [],
   "source": [
    "# Read sample zarr dataset from kage \n",
    "\n",
    "url = 'http://kage/CMIP6-zarr/CFMIP/MOHC/HadGEM3-GC31-LL/abrupt-2xCO2/r1i1p1f3/Amon/tas/gn/v20200829/'\n",
    "xr.open_zarr(url,consolidated=True)"
   ]
  },
  {
   "cell_type": "code",
   "execution_count": null,
   "metadata": {},
   "outputs": [],
   "source": [
    "# Direct access CMIP6 from mary:\n",
    "\n",
    "url = 'http://mary.ldeo.columbia.edu/CMIP6/CMIP/BCC/BCC-ESM1/historical/r1i1p1f1/Amon/clt/gn/v20181214/\\\n",
    "clt_Amon_BCC-ESM1_historical_r1i1p1f1_gn_185001-201412.nc#mode=bytes'\n",
    "\n",
    "xr.open_dataset(url)"
   ]
  },
  {
   "cell_type": "code",
   "execution_count": null,
   "metadata": {},
   "outputs": [],
   "source": [
    "# Can also use an OPeNDAP url:\n",
    "\n",
    "url = 'https://esgf-data1.llnl.gov/thredds/dodsC/css03_data/CMIP6/ScenarioMIP/AS-RCEC/TaiESM1/ssp370/r1i1p1f1/day/tasmax/gn/v20210323/tasmax_day_TaiESM1_ssp370_r1i1p1f1_gn_20150101-20241231.nc'\n",
    "xr.open_dataset(url)"
   ]
  },
  {
   "cell_type": "code",
   "execution_count": null,
   "metadata": {},
   "outputs": [],
   "source": [
    "# Globus - NOPE, must set up endpoints, etc.\n",
    "\n",
    "url = 'globus:415a6320-e49c-11e5-9798-22000b9da45e/css03_data/CMIP6/ScenarioMIP/IPSL/IPSL-CM6A-LR/ssp370/r6i1p1f1/day\\\n",
    "/tasmax/gr/v20190614/tasmax_day_IPSL-CM6A-LR_ssp370_r6i1p1f1_gr_20150101-21001231.nc'\n",
    "# xr.open_dataset(url)"
   ]
  },
  {
   "cell_type": "code",
   "execution_count": null,
   "metadata": {},
   "outputs": [],
   "source": [
    "# Google Cloud Store, Pangeo zarr collection\n",
    "\n",
    "path = 'CMIP6/ScenarioMIP/MPI-M/MPI-ESM1-2-LR/ssp585/r2i1p1f1/day/va/gn/v20190710'\n",
    "\n",
    "# Method 1:\n",
    "url = f'https://cmip6.storage.googleapis.com/{path}'\n",
    "ds = xr.open_zarr(url,consolidated=True)\n",
    "print(url,'\\n size of dataset:',ds.nbytes/1e9,'G \\n')\n",
    "\n",
    "# Method 2:\n",
    "url = f'gs://cmip6/{path}'\n",
    "ds = xr.open_zarr(fsspec.get_mapper(url),consolidated=True)\n",
    "print(url,'\\n size of dataset:',ds.nbytes/1e9,'G \\n')"
   ]
  },
  {
   "cell_type": "code",
   "execution_count": null,
   "metadata": {},
   "outputs": [],
   "source": [
    "# Amazon S3, Pangeo zarr collection (mirror of GCS)\n",
    "\n",
    "path = 'CMIP6/ScenarioMIP/MPI-M/MPI-ESM1-2-LR/ssp585/r2i1p1f1/day/va/gn/v20190710'\n",
    "\n",
    "# Method 1:\n",
    "url = f'https://cmip6-pds.s3.amazonaws.com/{path}'\n",
    "ds = xr.open_zarr(url,consolidated=True)\n",
    "var = list(ds.data_vars)[0]\n",
    "print(f'{url} \\n {var} dataset: {ds.nbytes/1e9} G \\n')\n",
    "\n",
    "# Method 2:\n",
    "url = f's3://cmip6-pds/{path}'\n",
    "ds = xr.open_zarr(fsspec.get_mapper(url),consolidated=True)\n",
    "var = list(ds.data_vars)[0]\n",
    "print(f'{url} \\n {var} dataset: {ds.nbytes/1e9} G \\n')"
   ]
  },
  {
   "cell_type": "code",
   "execution_count": null,
   "metadata": {},
   "outputs": [],
   "source": [
    "# Amazon S3, GFDL netcdf collection\n",
    "\n",
    "# can open a single file like this, but there is a better method to read from the S3 file system directly, see below\n",
    "\n",
    "url = 'https://esgf-world.s3.amazonaws.com/CMIP6/CMIP/IPSL/IPSL-CM6A-LR/abrupt-4xCO2/r1i1p1f1/Lmon/cLeaf/gr/v20190118/cLeaf_Lmon_IPSL-CM6A-LR_abrupt-4xCO2_r1i1p1f1_gr_185001-214912.nc#mode=bytes'\n",
    "#ds = xr.open_dataset(url, decode_coords=False)\n",
    "#print(url,'\\n size of dataset:',ds.nbytes/1e9,'G \\n')"
   ]
  },
  {
   "cell_type": "markdown",
   "metadata": {},
   "source": [
    "## We can also instantiate a file system"
   ]
  },
  {
   "cell_type": "code",
   "execution_count": null,
   "metadata": {},
   "outputs": [],
   "source": [
    "# loading data from http://kage.ldeo.columbia.edu/data/*   (visit in browser to find the data)\n",
    "\n",
    "fs_http = fsspec.filesystem('http')\n",
    "files = fs_http.glob('http://kage.ldeo.columbia.edu/data/ERA5/monthly/single_level/*/2m_*.nc')\n",
    "files"
   ]
  },
  {
   "cell_type": "code",
   "execution_count": null,
   "metadata": {},
   "outputs": [],
   "source": [
    "urls = [ file + '#mode=bytes' for file in files]\n",
    "ds= xr.open_mfdataset(urls)\n",
    "ds"
   ]
  },
  {
   "cell_type": "code",
   "execution_count": null,
   "metadata": {},
   "outputs": [],
   "source": [
    "fs_http = fsspec.filesystem('http')\n",
    "files = fs_http.glob('http://kage.ldeo.columbia.edu/data/ERA5/monthly/single_level/*/vertical_integral_of_divergence*.nc')\n",
    "urls = [ file + '#mode=bytes' for file in files]\n",
    "ds= xr.open_mfdataset(urls)\n",
    "ds"
   ]
  },
  {
   "cell_type": "code",
   "execution_count": null,
   "metadata": {},
   "outputs": [],
   "source": [
    "fs_http = fsspec.filesystem('http')\n",
    "files = fs_http.glob('http://blanton/CMIP6/ScenarioMIP/ssp370/ACCESS-ESM1-5/day/r1i1p1f1/ua/gn/v20191115/*.nc')\n",
    "print(files)\n",
    "urls = [ file + '#mode=bytes' for file in sorted(files)]\n",
    "ds= xr.open_mfdataset(urls)\n",
    "ds"
   ]
  },
  {
   "cell_type": "code",
   "execution_count": null,
   "metadata": {},
   "outputs": [],
   "source": [
    "# can browse ftp sites\n",
    "fs_ftp = fsspec.filesystem('ftp', host='ftp.cdc.noaa.gov') #, port=port, username=user, password=pw)\n",
    "fs_ftp.glob('/Projects/Datasets/*')"
   ]
  },
  {
   "cell_type": "code",
   "execution_count": null,
   "metadata": {},
   "outputs": [],
   "source": [
    "# can directly read in single ftp files WITHOUT downloading first\n",
    "import urllib\n",
    "import io\n",
    "\n",
    "url = 'ftp://ftp.cdc.noaa.gov/Projects/Datasets/ncep.reanalysis.derived/surface/air.sig995.mon.mean.nc'\n",
    "req = urllib.request.Request(url)\n",
    "\n",
    "with urllib.request.urlopen(req) as resp:\n",
    "    ds = xr.open_dataset(io.BytesIO(resp.read()))\n",
    "    \n",
    "ds"
   ]
  },
  {
   "cell_type": "code",
   "execution_count": null,
   "metadata": {},
   "outputs": [],
   "source": [
    "# Google Cloud Store (zarr), Example\n",
    "\n",
    "fs_gs = fsspec.filesystem('gs', anon=True)\n",
    "fs_gs.ls('cmip6')  # just put the bucket name here"
   ]
  },
  {
   "cell_type": "code",
   "execution_count": null,
   "metadata": {},
   "outputs": [],
   "source": [
    "# Google Cloud Store (zarr), Example (continue)\n",
    "\n",
    "dataset = 'gs://cmip6/CMIP6/CMIP/NOAA-GFDL/GFDL-ESM4/historical/r1i1p1f1/Amon/tas/gr1/v20190726/'\n",
    "xr.open_zarr(fsspec.get_mapper(dataset),consolidated=True)"
   ]
  },
  {
   "cell_type": "code",
   "execution_count": null,
   "metadata": {},
   "outputs": [],
   "source": [
    "# Amazon S3 (zarr),  Example\n",
    "\n",
    "fs_s3 = fsspec.filesystem('s3', anon=True)\n",
    "\n",
    "fs_s3.ls('cmip6-pds/CMIP6')  # just put the bucket name here"
   ]
  },
  {
   "cell_type": "code",
   "execution_count": null,
   "metadata": {},
   "outputs": [],
   "source": [
    "# Amazon S3 (zarr), Example  (continued)\n",
    "#dataset = 's3://cmip6-pds/CMIP6/CMIP/NOAA-GFDL/GFDL-ESM4/historical/r1i1p1f1/Amon/tas/gr1/v20190726/'\n",
    "dataset = 's3://cmip6-pds/CMIP6/CMIP/NOAA-GFDL/GFDL-ESM4/historical/r1i1p1f1/Amon/tas/gr1/v20190726/'\n",
    "\n",
    "xr.open_zarr(fsspec.get_mapper(dataset),consolidated=True)"
   ]
  },
  {
   "cell_type": "code",
   "execution_count": null,
   "metadata": {},
   "outputs": [],
   "source": [
    "# Amazon S3 (netcdf), Example 1 - opening a single netcdf file\n",
    "\n",
    "url = 's3://esgf-world/CMIP6/CMIP/NOAA-GFDL/GFDL-ESM4/historical/r1i1p1f1/Amon/tas/\\\n",
    "gr1/v20190726/tas_Amon_GFDL-ESM4_historical_r1i1p1f1_gr1_185001-194912.nc'\n",
    "xr.open_dataset(fs_s3.open(url))"
   ]
  },
  {
   "cell_type": "code",
   "execution_count": null,
   "metadata": {},
   "outputs": [],
   "source": [
    "# Amazon S3 (netcdf), Example 2 (dataset may consist of multiple netcdf files)\n",
    "\n",
    "dataset = 'CMIP6/CMIP/NOAA-GFDL/GFDL-ESM4/historical/r1i1p1f1/Amon/tas/gr1/v20190726'\n",
    "x = 's3://esgf-world/' + dataset\n",
    "urls = fs_s3.glob(x+'/*')\n",
    "urls"
   ]
  },
  {
   "cell_type": "code",
   "execution_count": null,
   "metadata": {},
   "outputs": [],
   "source": [
    "# Amazon S3 (netcdf), Example 2 (continued)\n",
    "\n",
    "fobj = [fs_s3.open(f) for f in urls]\n",
    "ds = xr.open_mfdataset(fobj, data_vars='minimal', \n",
    "                        use_cftime=True, join='exact', combine='nested', concat_dim='time')\n",
    "ds"
   ]
  }
 ],
 "metadata": {
  "kernelspec": {
   "display_name": "pangeo-fall2020",
   "language": "python",
   "name": "pangeo-fall2020"
  },
  "language_info": {
   "codemirror_mode": {
    "name": "ipython",
    "version": 3
   },
   "file_extension": ".py",
   "mimetype": "text/x-python",
   "name": "python",
   "nbconvert_exporter": "python",
   "pygments_lexer": "ipython3",
   "version": "3.7.8"
  }
 },
 "nbformat": 4,
 "nbformat_minor": 4
}
